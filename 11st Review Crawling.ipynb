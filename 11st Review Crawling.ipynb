{
 "cells": [
  {
   "cell_type": "code",
   "execution_count": 1,
   "metadata": {},
   "outputs": [
    {
     "name": "stdout",
     "output_type": "stream",
     "text": [
      "Requirement already satisfied: selenium in d:\\deep learning\\anaconda3\\lib\\site-packages (3.141.0)\n",
      "Requirement already satisfied: urllib3 in d:\\deep learning\\anaconda3\\lib\\site-packages (from selenium) (1.25.8)\n"
     ]
    }
   ],
   "source": [
    "!pip install selenium #셀레늄 설치"
   ]
  },
  {
   "cell_type": "code",
   "execution_count": 5,
   "metadata": {},
   "outputs": [
    {
     "name": "stdout",
     "output_type": "stream",
     "text": [
      "Requirement already satisfied: bs4 in d:\\deep learning\\anaconda3\\lib\\site-packages (0.0.1)\n",
      "Requirement already satisfied: beautifulsoup4 in d:\\deep learning\\anaconda3\\lib\\site-packages (from bs4) (4.8.2)\n",
      "Requirement already satisfied: soupsieve>=1.2 in d:\\deep learning\\anaconda3\\lib\\site-packages (from beautifulsoup4->bs4) (1.9.5)\n"
     ]
    }
   ],
   "source": [
    "!pip install bs4 # Beautiful 설치 "
   ]
  },
  {
   "cell_type": "code",
   "execution_count": null,
   "metadata": {},
   "outputs": [],
   "source": [
    "#위의 두 작업은 설치 된 후에는 삭제 해 줄 것"
   ]
  },
  {
   "cell_type": "code",
   "execution_count": 250,
   "metadata": {},
   "outputs": [],
   "source": [
    "from selenium import webdriver\n",
    "from bs4 import BeautifulSoup\n",
    "import time\n",
    "options = webdriver.ChromeOptions()\n",
    "options.add_argument('headless') \n",
    "driver = webdriver.Chrome(r'D:/Python/chromedriver_win32/chromedriver.exe') ## 크롬 드라이버 위치 (웹 브라우저를 띄우지 않고 크롤링 하려면 options=options 추가)\n",
    "driver.implicitly_wait(3)\n",
    "driver.get('http://www.11st.co.kr/products/378832529?trTypeCd=21&trCtgrNo=585021') ##크롤링 하고자 하는 11번가 상품 웹페이지 주소\n",
    "\n"
   ]
  },
  {
   "cell_type": "code",
   "execution_count": 251,
   "metadata": {},
   "outputs": [],
   "source": [
    "from selenium.webdriver.common.keys import Keys\n",
    "body = driver.find_element_by_tag_name(\"body\")\n",
    "num_of_pagedowns = 10\n",
    "\n",
    "while num_of_pagedowns:\n",
    "    body.send_keys(Keys.PAGE_DOWN)\n",
    "    time.sleep(0.3)\n",
    "    num_of_pagedowns -= 1\n"
   ]
  },
  {
   "cell_type": "code",
   "execution_count": 252,
   "metadata": {},
   "outputs": [],
   "source": [
    "driver.switch_to.frame(\"ifrmReview\")"
   ]
  },
  {
   "cell_type": "code",
   "execution_count": 262,
   "metadata": {},
   "outputs": [],
   "source": [
    "count = 20 #리뷰 더보기 버튼을 몇 번 누를 것인가, 리뷰수는 20+(conut*20)\n",
    "for i in range(count):\n",
    "    driver.find_element_by_xpath(\"//*[@id='review-list-page-area']/div/button\").send_keys(Keys.ENTER)\n",
    "    time.sleep(0.1)"
   ]
  },
  {
   "cell_type": "code",
   "execution_count": 263,
   "metadata": {},
   "outputs": [],
   "source": [
    "req=driver.page_source\n",
    "soup=BeautifulSoup(req,'html.parser')\n",
    "_id=soup.find_all(class_='name')\n",
    "review=soup.find_all(\"div\", class_=\"c_product_review_cont\")\n",
    "em=[]\n",
    "text=[]\n",
    "date=[]\n",
    "for re in review:\n",
    "    em.extend(re.find_all('em'))\n",
    "    text.extend(re.find_all('p', class_=\"cont_text\"))\n",
    "    date.extend(re.find_all('span', class_=\"date\"))\n",
    "\n",
    "review_text=[]\n",
    "for te in text:\n",
    "    review_text.append(te.text.strip())    \n",
    "id_name=[]\n",
    "for i in _id:\n",
    "    id_name.append(i.text)\n",
    "date_text=[]\n",
    "for d in date:\n",
    "    date_text.append(d.text)\n",
    "    "
   ]
  },
  {
   "cell_type": "code",
   "execution_count": 264,
   "metadata": {},
   "outputs": [],
   "source": [
    "from pandas import DataFrame\n",
    "\n",
    "table = {'ID' : id_name,\n",
    "               'Score' : em,\n",
    "               'Review' : review_text,\n",
    "        'Date' : date_text}\n",
    "review_table=DataFrame(table)"
   ]
  },
  {
   "cell_type": "code",
   "execution_count": 265,
   "metadata": {},
   "outputs": [
    {
     "data": {
      "text/html": [
       "<div>\n",
       "<style scoped>\n",
       "    .dataframe tbody tr th:only-of-type {\n",
       "        vertical-align: middle;\n",
       "    }\n",
       "\n",
       "    .dataframe tbody tr th {\n",
       "        vertical-align: top;\n",
       "    }\n",
       "\n",
       "    .dataframe thead th {\n",
       "        text-align: right;\n",
       "    }\n",
       "</style>\n",
       "<table border=\"1\" class=\"dataframe\">\n",
       "  <thead>\n",
       "    <tr style=\"text-align: right;\">\n",
       "      <th></th>\n",
       "      <th>ID</th>\n",
       "      <th>Score</th>\n",
       "      <th>Review</th>\n",
       "      <th>Date</th>\n",
       "    </tr>\n",
       "  </thead>\n",
       "  <tbody>\n",
       "    <tr>\n",
       "      <th>0</th>\n",
       "      <td>msch******</td>\n",
       "      <td>[3]</td>\n",
       "      <td>생각보다 바람이 약하네요 아주 많이 약해요 그럭저럭 쓸만은해요 좀더 좋은거료 다시 ...</td>\n",
       "      <td>2020.07.26</td>\n",
       "    </tr>\n",
       "    <tr>\n",
       "      <th>1</th>\n",
       "      <td>jw6k****</td>\n",
       "      <td>[5]</td>\n",
       "      <td>잘 받아보았구요~성능이 우수하네요, 입소문 전파 합니다. 기사님 수고하셨구요 안전운...</td>\n",
       "      <td>2020.05.14</td>\n",
       "    </tr>\n",
       "    <tr>\n",
       "      <th>2</th>\n",
       "      <td>shin***</td>\n",
       "      <td>[4]</td>\n",
       "      <td>이쁘게 생겻네요 성능도 좋아요</td>\n",
       "      <td>2020.07.18</td>\n",
       "    </tr>\n",
       "    <tr>\n",
       "      <th>3</th>\n",
       "      <td>sseu******</td>\n",
       "      <td>[2]</td>\n",
       "      <td>드라이기 고장나서 매일 찬바람으로 머리말리다 총알배송으로 제품받았습니다. 그때까지만...</td>\n",
       "      <td>2014.03.03</td>\n",
       "    </tr>\n",
       "    <tr>\n",
       "      <th>4</th>\n",
       "      <td>댕굴댕굴</td>\n",
       "      <td>[3]</td>\n",
       "      <td>배송빠르고 디자인예쁘고 가격착하고.. 여기까지는 참 맘에 들었어요 일단 사용해본후 ...</td>\n",
       "      <td>2018.06.11</td>\n",
       "    </tr>\n",
       "    <tr>\n",
       "      <th>...</th>\n",
       "      <td>...</td>\n",
       "      <td>...</td>\n",
       "      <td>...</td>\n",
       "      <td>...</td>\n",
       "    </tr>\n",
       "    <tr>\n",
       "      <th>635</th>\n",
       "      <td>pine*******</td>\n",
       "      <td>[4]</td>\n",
       "      <td>[유닉스] 1500W 드라이기 UN-A1141 전문가용 드라이기/이중안전장치내장/전...</td>\n",
       "      <td>2016.09.08</td>\n",
       "    </tr>\n",
       "    <tr>\n",
       "      <th>636</th>\n",
       "      <td>31sk****</td>\n",
       "      <td>[5]</td>\n",
       "      <td>풍량이 많아서 바쁜아침머리말리는 시간이 줄어들어서 좋네요 근데 소리는 조용하다는데 ...</td>\n",
       "      <td>2014.01.25</td>\n",
       "    </tr>\n",
       "    <tr>\n",
       "      <th>637</th>\n",
       "      <td>tlsq****</td>\n",
       "      <td>[5]</td>\n",
       "      <td>드라이기가 갑자기 안되서 난감했는데 배송도 빨리 해줘서 감사합니다. 전문가용이라 그...</td>\n",
       "      <td>2012.12.30</td>\n",
       "    </tr>\n",
       "    <tr>\n",
       "      <th>638</th>\n",
       "      <td>woom***</td>\n",
       "      <td>[5]</td>\n",
       "      <td>드라이기만 두개 다 11번가에서 구매했습니다. 유닉스 써보고 좋아서 또 구매했어요!...</td>\n",
       "      <td>2013.12.13</td>\n",
       "    </tr>\n",
       "    <tr>\n",
       "      <th>639</th>\n",
       "      <td>takk**</td>\n",
       "      <td>[5]</td>\n",
       "      <td>가볍워서 좋아요. 유닉스 사용하고 있다가 좋아서 딸래미방에 두고 사용</td>\n",
       "      <td>2019.05.28</td>\n",
       "    </tr>\n",
       "  </tbody>\n",
       "</table>\n",
       "<p>640 rows × 4 columns</p>\n",
       "</div>"
      ],
      "text/plain": [
       "              ID Score                                             Review  \\\n",
       "0     msch******   [3]  생각보다 바람이 약하네요 아주 많이 약해요 그럭저럭 쓸만은해요 좀더 좋은거료 다시 ...   \n",
       "1       jw6k****   [5]  잘 받아보았구요~성능이 우수하네요, 입소문 전파 합니다. 기사님 수고하셨구요 안전운...   \n",
       "2        shin***   [4]                                   이쁘게 생겻네요 성능도 좋아요   \n",
       "3     sseu******   [2]  드라이기 고장나서 매일 찬바람으로 머리말리다 총알배송으로 제품받았습니다. 그때까지만...   \n",
       "4           댕굴댕굴   [3]  배송빠르고 디자인예쁘고 가격착하고.. 여기까지는 참 맘에 들었어요 일단 사용해본후 ...   \n",
       "..           ...   ...                                                ...   \n",
       "635  pine*******   [4]  [유닉스] 1500W 드라이기 UN-A1141 전문가용 드라이기/이중안전장치내장/전...   \n",
       "636     31sk****   [5]  풍량이 많아서 바쁜아침머리말리는 시간이 줄어들어서 좋네요 근데 소리는 조용하다는데 ...   \n",
       "637     tlsq****   [5]  드라이기가 갑자기 안되서 난감했는데 배송도 빨리 해줘서 감사합니다. 전문가용이라 그...   \n",
       "638      woom***   [5]  드라이기만 두개 다 11번가에서 구매했습니다. 유닉스 써보고 좋아서 또 구매했어요!...   \n",
       "639       takk**   [5]             가볍워서 좋아요. 유닉스 사용하고 있다가 좋아서 딸래미방에 두고 사용   \n",
       "\n",
       "           Date  \n",
       "0    2020.07.26  \n",
       "1    2020.05.14  \n",
       "2    2020.07.18  \n",
       "3    2014.03.03  \n",
       "4    2018.06.11  \n",
       "..          ...  \n",
       "635  2016.09.08  \n",
       "636  2014.01.25  \n",
       "637  2012.12.30  \n",
       "638  2013.12.13  \n",
       "639  2019.05.28  \n",
       "\n",
       "[640 rows x 4 columns]"
      ]
     },
     "execution_count": 265,
     "metadata": {},
     "output_type": "execute_result"
    }
   ],
   "source": [
    "review_table"
   ]
  },
  {
   "cell_type": "code",
   "execution_count": 249,
   "metadata": {},
   "outputs": [],
   "source": [
    "driver.close()"
   ]
  }
 ],
 "metadata": {
  "kernelspec": {
   "display_name": "Python 3",
   "language": "python",
   "name": "python3"
  },
  "language_info": {
   "codemirror_mode": {
    "name": "ipython",
    "version": 3
   },
   "file_extension": ".py",
   "mimetype": "text/x-python",
   "name": "python",
   "nbconvert_exporter": "python",
   "pygments_lexer": "ipython3",
   "version": "3.7.6"
  }
 },
 "nbformat": 4,
 "nbformat_minor": 4
}
